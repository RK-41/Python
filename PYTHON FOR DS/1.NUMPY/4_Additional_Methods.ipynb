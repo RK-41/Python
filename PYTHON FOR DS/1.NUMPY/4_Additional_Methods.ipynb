{
  "cells": [
    {
      "cell_type": "markdown",
      "metadata": {},
      "source": [
        "# 31.08.23"
      ]
    },
    {
      "cell_type": "markdown",
      "metadata": {
        "id": "Luz3OcT5-kkW"
      },
      "source": [
        "# Methods to Create Numpy Arrays"
      ]
    },
    {
      "cell_type": "markdown",
      "metadata": {},
      "source": []
    },
    {
      "cell_type": "markdown",
      "metadata": {
        "id": "eXRlRQ-N9uEG"
      },
      "source": [
        "## arange()\n",
        "### This method returns evenly spaced values b/w the given intervals excluding the end limit.\n",
        "### The values are generated based on the step value which is 1 by default."
      ]
    },
    {
      "cell_type": "code",
      "execution_count": 3,
      "metadata": {
        "colab": {
          "base_uri": "https://localhost:8080/"
        },
        "id": "xT28wZIG-pKp",
        "outputId": "865f00c5-9dda-4fb3-e578-7f8f52f6e61e"
      },
      "outputs": [
        {
          "data": {
            "text/plain": [
              "array([ 2,  3,  4,  5,  6,  7,  8,  9, 10, 11])"
            ]
          },
          "execution_count": 3,
          "metadata": {},
          "output_type": "execute_result"
        }
      ],
      "source": [
        "import numpy as np\n",
        "\n",
        "# start and end limit\n",
        "np.arange(2,12)"
      ]
    },
    {
      "cell_type": "code",
      "execution_count": 4,
      "metadata": {
        "colab": {
          "base_uri": "https://localhost:8080/"
        },
        "id": "tm3DG8hn-69B",
        "outputId": "0aee7ef8-4de1-4772-a82a-c53f7faa3ccf"
      },
      "outputs": [
        {
          "data": {
            "text/plain": [
              "array([ 2,  5,  8, 11])"
            ]
          },
          "execution_count": 4,
          "metadata": {},
          "output_type": "execute_result"
        }
      ],
      "source": [
        "# step val=3\n",
        "np.arange(2,12,3)"
      ]
    },
    {
      "cell_type": "markdown",
      "metadata": {
        "id": "6CMAkwmN_RKw"
      },
      "source": [
        "## linspace()\n",
        "### This method returns the given number of evenly spaced values, b/w the given intervals.\n",
        "### By default, the number of values b/w a given interval is 50."
      ]
    },
    {
      "cell_type": "code",
      "execution_count": 9,
      "metadata": {
        "colab": {
          "base_uri": "https://localhost:8080/"
        },
        "id": "kcsGqAzQ_hQR",
        "outputId": "c55dc686-0977-45a2-9a7c-b74f8a1c6862"
      },
      "outputs": [
        {
          "name": "stdout",
          "output_type": "stream",
          "text": [
            "[ 0.          0.20408163  0.40816327  0.6122449   0.81632653  1.02040816\n",
            "  1.2244898   1.42857143  1.63265306  1.83673469  2.04081633  2.24489796\n",
            "  2.44897959  2.65306122  2.85714286  3.06122449  3.26530612  3.46938776\n",
            "  3.67346939  3.87755102  4.08163265  4.28571429  4.48979592  4.69387755\n",
            "  4.89795918  5.10204082  5.30612245  5.51020408  5.71428571  5.91836735\n",
            "  6.12244898  6.32653061  6.53061224  6.73469388  6.93877551  7.14285714\n",
            "  7.34693878  7.55102041  7.75510204  7.95918367  8.16326531  8.36734694\n",
            "  8.57142857  8.7755102   8.97959184  9.18367347  9.3877551   9.59183673\n",
            "  9.79591837 10.        ]\n",
            "Len(arr):  50\n"
          ]
        }
      ],
      "source": [
        "# Generating values b/w 0 and 10\n",
        "arr = np.linspace(0,10)\n",
        "print(arr)\n",
        "print('Len(arr): ', len(arr))"
      ]
    },
    {
      "cell_type": "code",
      "execution_count": 10,
      "metadata": {
        "colab": {
          "base_uri": "https://localhost:8080/"
        },
        "id": "fy8wwCJk_w4C",
        "outputId": "cb49ef40-229e-47a6-da12-410e9cff7b05"
      },
      "outputs": [
        {
          "name": "stdout",
          "output_type": "stream",
          "text": [
            "[2.         2.66666667 3.33333333 4.        ]\n"
          ]
        }
      ],
      "source": [
        "# Number of values = 5\n",
        "print(np.linspace(2,4,4))"
      ]
    },
    {
      "cell_type": "markdown",
      "metadata": {
        "id": "9QddvRZ1AX-K"
      },
      "source": [
        "# Zeroes and Ones"
      ]
    },
    {
      "cell_type": "markdown",
      "metadata": {
        "id": "XAHWWyoHAeFW"
      },
      "source": [
        "## zeros()\n",
        "### This method returns array of given shape filled with zeros."
      ]
    },
    {
      "cell_type": "code",
      "execution_count": 11,
      "metadata": {
        "colab": {
          "base_uri": "https://localhost:8080/"
        },
        "id": "Nc3puRL8AnpD",
        "outputId": "ce852452-0476-42d8-b467-512e09bd52b2"
      },
      "outputs": [
        {
          "data": {
            "text/plain": [
              "array([0., 0., 0., 0.])"
            ]
          },
          "execution_count": 11,
          "metadata": {},
          "output_type": "execute_result"
        }
      ],
      "source": [
        "# 1D\n",
        "np.zeros(4)"
      ]
    },
    {
      "cell_type": "code",
      "execution_count": 12,
      "metadata": {
        "colab": {
          "base_uri": "https://localhost:8080/"
        },
        "id": "fq2qP1QEAsTE",
        "outputId": "cab3aa2e-def0-4a61-d55c-346eb4d78236"
      },
      "outputs": [
        {
          "data": {
            "text/plain": [
              "array([[0., 0., 0., 0., 0.],\n",
              "       [0., 0., 0., 0., 0.]])"
            ]
          },
          "execution_count": 12,
          "metadata": {},
          "output_type": "execute_result"
        }
      ],
      "source": [
        "# 2D\n",
        "np.zeros([2,5])"
      ]
    },
    {
      "cell_type": "code",
      "execution_count": 13,
      "metadata": {
        "colab": {
          "base_uri": "https://localhost:8080/"
        },
        "id": "NQGb3RCpAxe8",
        "outputId": "795d86cc-51c2-4e99-b776-b338be76db36"
      },
      "outputs": [
        {
          "data": {
            "text/plain": [
              "array([[[0., 0., 0., 0.],\n",
              "        [0., 0., 0., 0.],\n",
              "        [0., 0., 0., 0.]],\n",
              "\n",
              "       [[0., 0., 0., 0.],\n",
              "        [0., 0., 0., 0.],\n",
              "        [0., 0., 0., 0.]]])"
            ]
          },
          "execution_count": 13,
          "metadata": {},
          "output_type": "execute_result"
        }
      ],
      "source": [
        "# 3D\n",
        "np.zeros([2,3,4])"
      ]
    },
    {
      "cell_type": "markdown",
      "metadata": {
        "id": "ufRxNdkLA2XH"
      },
      "source": [
        "## ones()\n",
        "### This method returns an array of given shape filled with ones."
      ]
    },
    {
      "cell_type": "code",
      "execution_count": 14,
      "metadata": {
        "colab": {
          "base_uri": "https://localhost:8080/"
        },
        "id": "EgPBeBMuBBb-",
        "outputId": "337fc089-8063-4a22-c48d-13a66020be8a"
      },
      "outputs": [
        {
          "data": {
            "text/plain": [
              "array([1., 1., 1.])"
            ]
          },
          "execution_count": 14,
          "metadata": {},
          "output_type": "execute_result"
        }
      ],
      "source": [
        "# 1D\n",
        "np.ones(3)"
      ]
    },
    {
      "cell_type": "code",
      "execution_count": 15,
      "metadata": {
        "colab": {
          "base_uri": "https://localhost:8080/"
        },
        "id": "qvcNhsepBDnY",
        "outputId": "b630a9c7-84e8-4847-9d37-d0fb8a153b24"
      },
      "outputs": [
        {
          "data": {
            "text/plain": [
              "array([[1., 1., 1., 1., 1., 1.],\n",
              "       [1., 1., 1., 1., 1., 1.],\n",
              "       [1., 1., 1., 1., 1., 1.]])"
            ]
          },
          "execution_count": 15,
          "metadata": {},
          "output_type": "execute_result"
        }
      ],
      "source": [
        "# 2D\n",
        "np.ones([3,6])"
      ]
    },
    {
      "cell_type": "code",
      "execution_count": 16,
      "metadata": {
        "colab": {
          "base_uri": "https://localhost:8080/"
        },
        "id": "BcudmcVJBGgL",
        "outputId": "b16a1249-5c01-40c4-ce0f-14a8e1d0aad4"
      },
      "outputs": [
        {
          "data": {
            "text/plain": [
              "array([[[1., 1., 1.],\n",
              "        [1., 1., 1.],\n",
              "        [1., 1., 1.],\n",
              "        [1., 1., 1.],\n",
              "        [1., 1., 1.]],\n",
              "\n",
              "       [[1., 1., 1.],\n",
              "        [1., 1., 1.],\n",
              "        [1., 1., 1.],\n",
              "        [1., 1., 1.],\n",
              "        [1., 1., 1.]]])"
            ]
          },
          "execution_count": 16,
          "metadata": {},
          "output_type": "execute_result"
        }
      ],
      "source": [
        "# 3D\n",
        "np.ones([2,5,3])"
      ]
    },
    {
      "cell_type": "markdown",
      "metadata": {
        "id": "K4YIMEQCBRkv"
      },
      "source": [
        "# Full and Eye"
      ]
    },
    {
      "cell_type": "markdown",
      "metadata": {
        "id": "eEa8uYwbBYU3"
      },
      "source": [
        "## full()\n",
        "### Returns an array of given shape, filled with given value, irrespective of datatype."
      ]
    },
    {
      "cell_type": "code",
      "execution_count": 17,
      "metadata": {
        "colab": {
          "base_uri": "https://localhost:8080/"
        },
        "id": "bpvlw0LcBMaF",
        "outputId": "2dcba67d-dcc4-4d70-b227-bde7e98f86bb"
      },
      "outputs": [
        {
          "data": {
            "text/plain": [
              "array([3, 3, 3, 3, 3])"
            ]
          },
          "execution_count": 17,
          "metadata": {},
          "output_type": "execute_result"
        }
      ],
      "source": [
        "# shape=5, val=3\n",
        "np.full(5,3)"
      ]
    },
    {
      "cell_type": "code",
      "execution_count": 18,
      "metadata": {
        "colab": {
          "base_uri": "https://localhost:8080/"
        },
        "id": "tdw5zsL-Bqk-",
        "outputId": "2a571d0b-e3d7-4f57-8b6e-c9cddd27c2b6"
      },
      "outputs": [
        {
          "data": {
            "text/plain": [
              "array([[4, 4, 4],\n",
              "       [4, 4, 4]])"
            ]
          },
          "execution_count": 18,
          "metadata": {},
          "output_type": "execute_result"
        }
      ],
      "source": [
        "# shape=[2,3], val=4\n",
        "np.full([2,3],4)"
      ]
    },
    {
      "cell_type": "markdown",
      "metadata": {
        "id": "srLNJxhLBwSm"
      },
      "source": [
        "## eye()\n",
        "### Returns an identity matrix for the given shape."
      ]
    },
    {
      "cell_type": "code",
      "execution_count": 19,
      "metadata": {
        "colab": {
          "base_uri": "https://localhost:8080/"
        },
        "id": "VgcoKJUzB4N2",
        "outputId": "93f774c8-4e3b-4614-b3f8-4b3e9ddce27a"
      },
      "outputs": [
        {
          "data": {
            "text/plain": [
              "array([[1., 0., 0.],\n",
              "       [0., 1., 0.],\n",
              "       [0., 0., 1.]])"
            ]
          },
          "execution_count": 19,
          "metadata": {},
          "output_type": "execute_result"
        }
      ],
      "source": [
        "# 3x3 identity matrix\n",
        "np.eye(3)"
      ]
    },
    {
      "cell_type": "code",
      "execution_count": 23,
      "metadata": {
        "colab": {
          "base_uri": "https://localhost:8080/"
        },
        "id": "JZDs2arTB9l0",
        "outputId": "09119784-d1f7-4d0d-e447-f0a0e652c9c9"
      },
      "outputs": [
        {
          "data": {
            "text/plain": [
              "array([[1., 0., 0., 0.],\n",
              "       [0., 1., 0., 0.],\n",
              "       [0., 0., 1., 0.]])"
            ]
          },
          "execution_count": 23,
          "metadata": {},
          "output_type": "execute_result"
        }
      ],
      "source": [
        "# 3x4 mat\n",
        "np.eye(3,4)"
      ]
    },
    {
      "cell_type": "markdown",
      "metadata": {
        "id": "bVDOT2WFC4n6"
      },
      "source": [
        "# Random"
      ]
    },
    {
      "cell_type": "markdown",
      "metadata": {
        "id": "PGV-WmaDDJig"
      },
      "source": [
        "## Numpy has numerous ways to create random number arrays.\n",
        "## Random numbers can be created for the required length, from a Uniform Distribution by just passing the value of required length to the random.rand() fn."
      ]
    },
    {
      "cell_type": "code",
      "execution_count": 24,
      "metadata": {
        "colab": {
          "base_uri": "https://localhost:8080/"
        },
        "id": "TNWL7nNODfMu",
        "outputId": "5b637b40-660c-460e-c3e8-ddb7ed2c4f40"
      },
      "outputs": [
        {
          "data": {
            "text/plain": [
              "array([0.60743254, 0.26105137, 0.25613827, 0.11505566, 0.99246472])"
            ]
          },
          "execution_count": 24,
          "metadata": {},
          "output_type": "execute_result"
        }
      ],
      "source": [
        "# Generating 5 random numbers from a Uniform Distribution\n",
        "np.random.rand(5)"
      ]
    },
    {
      "cell_type": "markdown",
      "metadata": {
        "id": "u0gwC1P6DmWB"
      },
      "source": [
        "## Similarly, to generate random numbers from a Normal Distribution, random.randn() fn is used."
      ]
    },
    {
      "cell_type": "code",
      "execution_count": 25,
      "metadata": {
        "colab": {
          "base_uri": "https://localhost:8080/"
        },
        "id": "0YCFAzRiD4ok",
        "outputId": "17a5b202-81cb-4fe3-cc5e-dcfaa4f68f44"
      },
      "outputs": [
        {
          "data": {
            "text/plain": [
              "array([ 0.36907456, -0.10894859, -0.01565327,  0.10023505, -0.35100981])"
            ]
          },
          "execution_count": 25,
          "metadata": {},
          "output_type": "execute_result"
        }
      ],
      "source": [
        "# Generating 5 random numbers from a Normal Distribution\n",
        "np.random.randn(5)"
      ]
    },
    {
      "cell_type": "markdown",
      "metadata": {
        "id": "F1kN_-c8D_1Y"
      },
      "source": [
        "## Random numbers of type 'integer' can also be generated using random.randint() fn."
      ]
    },
    {
      "cell_type": "code",
      "execution_count": 33,
      "metadata": {
        "colab": {
          "base_uri": "https://localhost:8080/"
        },
        "id": "riA6tgTVEQ3c",
        "outputId": "dcc94cd8-810e-489f-c50e-b8971af06504"
      },
      "outputs": [
        {
          "data": {
            "text/plain": [
              "array([3, 8, 4, 4, 4])"
            ]
          },
          "execution_count": 33,
          "metadata": {},
          "output_type": "execute_result"
        }
      ],
      "source": [
        "# Generating a 1D array of size 5 having random integers in the range [1,10)\n",
        "# np.random.randint(1,10,size=5)\n",
        "np.random.randint(1,10,5)"
      ]
    },
    {
      "cell_type": "markdown",
      "metadata": {
        "id": "Ttq4UIRiElJH"
      },
      "source": [
        "## Similarly, 2D arrays of random numbers can also be created by passing the shape instead of number of values."
      ]
    },
    {
      "cell_type": "code",
      "execution_count": 34,
      "metadata": {
        "colab": {
          "base_uri": "https://localhost:8080/"
        },
        "id": "hSHpoQAbGyWE",
        "outputId": "849140ea-e005-4213-a723-4622bcd12cdf"
      },
      "outputs": [
        {
          "name": "stdout",
          "output_type": "stream",
          "text": [
            "[[65 74 88 77 61]\n",
            " [45 94 72 51  3]\n",
            " [53 26 96 70 44]]\n",
            "<class 'numpy.ndarray'>\n"
          ]
        }
      ],
      "source": [
        "# Random int val high=100 and shape=(3,5)\n",
        "rand_arr = np.random.randint(100,size=(3,5))\n",
        "print(rand_arr)\n",
        "print(type(rand_arr))"
      ]
    },
    {
      "cell_type": "markdown",
      "metadata": {
        "id": "uoavRT32HIFi"
      },
      "source": [
        "## To generate a random number from a predefined set of values present in an array, the choice() method can be used.\n",
        "## The choice() method takes an arrays as a parameter and randomly returns the values based on the size."
      ]
    },
    {
      "cell_type": "code",
      "execution_count": 37,
      "metadata": {
        "colab": {
          "base_uri": "https://localhost:8080/"
        },
        "id": "X2VICQFOHfWK",
        "outputId": "b5b58f0d-dda6-423d-b2b7-6e2525ade969"
      },
      "outputs": [
        {
          "name": "stdout",
          "output_type": "stream",
          "text": [
            "7\n"
          ]
        }
      ],
      "source": [
        "# Returning a single random value from the array\n",
        "rv = np.random.choice([2,4,6,3,5,7])\n",
        "print(rv)"
      ]
    },
    {
      "cell_type": "code",
      "execution_count": 38,
      "metadata": {
        "colab": {
          "base_uri": "https://localhost:8080/"
        },
        "id": "vCJWNUvyHqIR",
        "outputId": "a4183b31-1d56-4060-9d47-39d8d9ade1bf"
      },
      "outputs": [
        {
          "name": "stdout",
          "output_type": "stream",
          "text": [
            "[[7 2 7 7 2]\n",
            " [2 5 3 2 5]\n",
            " [4 3 5 2 4]]\n",
            "<class 'numpy.ndarray'>\n"
          ]
        }
      ],
      "source": [
        "# Returning a 3x5 matrix of random values from the array\n",
        "rv_mat = np.random.choice([2,3,4,5,6,7], size=(3,5))\n",
        "# sampling to create an nd-array\n",
        "\n",
        "print(rv_mat)\n",
        "print(type(rv_mat))"
      ]
    }
  ],
  "metadata": {
    "colab": {
      "provenance": []
    },
    "kernelspec": {
      "display_name": "Python 3",
      "name": "python3"
    },
    "language_info": {
      "name": "python"
    }
  },
  "nbformat": 4,
  "nbformat_minor": 0
}
